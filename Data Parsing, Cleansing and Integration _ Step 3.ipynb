{
 "cells": [
  {
   "cell_type": "markdown",
   "metadata": {},
   "source": [
    "# Data Parsing, Cleansing and Integration\n",
    "## Step 3\n",
    "#### Author: Linda Nguyen\n",
    "\n",
    "\n",
    "Environment: Python 3 and Jupyter notebook\n",
    "\n",
    "\n",
    "## Introduction\n",
    "\n",
    "In this step, we'll be given the second job advertisement dataset s3651761_dataset2.csv. We'll integrate this dataset with the dataset s3651761_dataset1_solution.csv. To do this, we'll inspect and compare the schema of s3651761_dataset1_solution.csv and s3651761_dataset2.csv to identify and resolve any schema conflicts. Finally, we'll merge and  output the integrated dataset as s3651761_dataset_integrated.csv. \n"
   ]
  },
  {
   "cell_type": "markdown",
   "metadata": {},
   "source": [
    "##  Import libraries "
   ]
  },
  {
   "cell_type": "code",
   "execution_count": 1,
   "metadata": {},
   "outputs": [],
   "source": [
    "import numpy as np\n",
    "import pandas as pd\n",
    "import datetime\n",
    "import re\n",
    "from IPython.display import display\n",
    "import warnings\n",
    "warnings.simplefilter(action ='ignore')"
   ]
  },
  {
   "cell_type": "markdown",
   "metadata": {},
   "source": [
    "### 1. Examining and loading data\n",
    "Examine \"s3651761_dataset2.csv\" the structure and schema. "
   ]
  },
  {
   "cell_type": "markdown",
   "metadata": {},
   "source": [
    "Let's have a look at the two data sets, in the following, we will give the first dataset a short name 'S1', and call the 2nd dataset 'S2'."
   ]
  },
  {
   "cell_type": "code",
   "execution_count": 2,
   "metadata": {},
   "outputs": [
    {
     "name": "stdout",
     "output_type": "stream",
     "text": [
      "S1:(5000, 9)\n"
     ]
    },
    {
     "data": {
      "text/html": [
       "<div>\n",
       "<style scoped>\n",
       "    .dataframe tbody tr th:only-of-type {\n",
       "        vertical-align: middle;\n",
       "    }\n",
       "\n",
       "    .dataframe tbody tr th {\n",
       "        vertical-align: top;\n",
       "    }\n",
       "\n",
       "    .dataframe thead th {\n",
       "        text-align: right;\n",
       "    }\n",
       "</style>\n",
       "<table border=\"1\" class=\"dataframe\">\n",
       "  <thead>\n",
       "    <tr style=\"text-align: right;\">\n",
       "      <th></th>\n",
       "      <th>Location</th>\n",
       "      <th>Job Title</th>\n",
       "      <th>Monthly Payment</th>\n",
       "      <th>Closing</th>\n",
       "      <th>Category</th>\n",
       "      <th>Type</th>\n",
       "      <th>Opening</th>\n",
       "      <th>Organisation</th>\n",
       "      <th>Full-Time Equivalent (FTE)</th>\n",
       "    </tr>\n",
       "  </thead>\n",
       "  <tbody>\n",
       "    <tr>\n",
       "      <th>0</th>\n",
       "      <td>Berkshire</td>\n",
       "      <td>Lead CRA UK</td>\n",
       "      <td>4583.33</td>\n",
       "      <td>2012-03-08 12:00:00</td>\n",
       "      <td>Health</td>\n",
       "      <td>NaN</td>\n",
       "      <td>2012-01-08 12:00:00</td>\n",
       "      <td>SEC Recruitment</td>\n",
       "      <td>1.0</td>\n",
       "    </tr>\n",
       "    <tr>\n",
       "      <th>1</th>\n",
       "      <td>Bristol</td>\n",
       "      <td>Possession Manager</td>\n",
       "      <td>2812.50</td>\n",
       "      <td>2013-09-06 12:00:00</td>\n",
       "      <td>Engineering</td>\n",
       "      <td>Permanent</td>\n",
       "      <td>2013-08-07 12:00:00</td>\n",
       "      <td>Navartis Limited</td>\n",
       "      <td>1.0</td>\n",
       "    </tr>\n",
       "    <tr>\n",
       "      <th>2</th>\n",
       "      <td>Coventry</td>\n",
       "      <td>NVQ Assessor Banking/Financial Services Salary...</td>\n",
       "      <td>1791.67</td>\n",
       "      <td>2013-05-02 00:00:00</td>\n",
       "      <td>Hospitality</td>\n",
       "      <td>Permanent</td>\n",
       "      <td>2013-02-01 00:00:00</td>\n",
       "      <td>Pertemps</td>\n",
       "      <td>1.0</td>\n",
       "    </tr>\n",
       "    <tr>\n",
       "      <th>3</th>\n",
       "      <td>Poole</td>\n",
       "      <td>HEAD OF CARE (RGN/RMN)  Poole</td>\n",
       "      <td>2916.67</td>\n",
       "      <td>2013-09-24 15:00:00</td>\n",
       "      <td>Health</td>\n",
       "      <td>NaN</td>\n",
       "      <td>2013-07-26 15:00:00</td>\n",
       "      <td>Team 24 Ltd</td>\n",
       "      <td>1.0</td>\n",
       "    </tr>\n",
       "    <tr>\n",
       "      <th>4</th>\n",
       "      <td>Woking</td>\n",
       "      <td>SQL Server DBA</td>\n",
       "      <td>3125.00</td>\n",
       "      <td>2012-12-21 12:00:00</td>\n",
       "      <td>Information Technology</td>\n",
       "      <td>NaN</td>\n",
       "      <td>2012-11-21 12:00:00</td>\n",
       "      <td>Matchtech</td>\n",
       "      <td>1.0</td>\n",
       "    </tr>\n",
       "  </tbody>\n",
       "</table>\n",
       "</div>"
      ],
      "text/plain": [
       "    Location                                          Job Title  \\\n",
       "0  Berkshire                                        Lead CRA UK   \n",
       "1    Bristol                                 Possession Manager   \n",
       "2   Coventry  NVQ Assessor Banking/Financial Services Salary...   \n",
       "3      Poole                      HEAD OF CARE (RGN/RMN)  Poole   \n",
       "4     Woking                                     SQL Server DBA   \n",
       "\n",
       "   Monthly Payment              Closing                Category       Type  \\\n",
       "0          4583.33  2012-03-08 12:00:00                  Health        NaN   \n",
       "1          2812.50  2013-09-06 12:00:00             Engineering  Permanent   \n",
       "2          1791.67  2013-05-02 00:00:00             Hospitality  Permanent   \n",
       "3          2916.67  2013-09-24 15:00:00                  Health        NaN   \n",
       "4          3125.00  2012-12-21 12:00:00  Information Technology        NaN   \n",
       "\n",
       "               Opening      Organisation  Full-Time Equivalent (FTE)  \n",
       "0  2012-01-08 12:00:00   SEC Recruitment                         1.0  \n",
       "1  2013-08-07 12:00:00  Navartis Limited                         1.0  \n",
       "2  2013-02-01 00:00:00          Pertemps                         1.0  \n",
       "3  2013-07-26 15:00:00       Team 24 Ltd                         1.0  \n",
       "4  2012-11-21 12:00:00         Matchtech                         1.0  "
      ]
     },
     "metadata": {},
     "output_type": "display_data"
    },
    {
     "name": "stdout",
     "output_type": "stream",
     "text": [
      "S2:(134, 11)\n"
     ]
    },
    {
     "data": {
      "text/html": [
       "<div>\n",
       "<style scoped>\n",
       "    .dataframe tbody tr th:only-of-type {\n",
       "        vertical-align: middle;\n",
       "    }\n",
       "\n",
       "    .dataframe tbody tr th {\n",
       "        vertical-align: top;\n",
       "    }\n",
       "\n",
       "    .dataframe thead th {\n",
       "        text-align: right;\n",
       "    }\n",
       "</style>\n",
       "<table border=\"1\" class=\"dataframe\">\n",
       "  <thead>\n",
       "    <tr style=\"text-align: right;\">\n",
       "      <th></th>\n",
       "      <th>Id</th>\n",
       "      <th>Title</th>\n",
       "      <th>Location</th>\n",
       "      <th>Company</th>\n",
       "      <th>ContractType</th>\n",
       "      <th>ContractTime</th>\n",
       "      <th>Category</th>\n",
       "      <th>Salary</th>\n",
       "      <th>OpenDate</th>\n",
       "      <th>CloseDate</th>\n",
       "      <th>SourceName</th>\n",
       "    </tr>\n",
       "  </thead>\n",
       "  <tbody>\n",
       "    <tr>\n",
       "      <th>0</th>\n",
       "      <td>70091064</td>\n",
       "      <td>Interim Compliance Consultant</td>\n",
       "      <td>South East England</td>\n",
       "      <td>InterQuest Financial Markets</td>\n",
       "      <td>non-specified</td>\n",
       "      <td>non-specified</td>\n",
       "      <td>Accounting &amp; Finance Jobs</td>\n",
       "      <td>84000.0</td>\n",
       "      <td>2013-08-13 00:00:00</td>\n",
       "      <td>2013-10-12 00:00:00</td>\n",
       "      <td>contractjobs.com</td>\n",
       "    </tr>\n",
       "    <tr>\n",
       "      <th>1</th>\n",
       "      <td>70692942</td>\n",
       "      <td>ITU Nurses Required  Nottinghamshire</td>\n",
       "      <td>East Midlands</td>\n",
       "      <td>Your World Healthcare</td>\n",
       "      <td>non-specified</td>\n",
       "      <td>non-specified</td>\n",
       "      <td>Healthcare &amp; Nursing Jobs</td>\n",
       "      <td>57600.0</td>\n",
       "      <td>2013-05-12 12:00:00</td>\n",
       "      <td>2013-06-11 12:00:00</td>\n",
       "      <td>totaljobs.com</td>\n",
       "    </tr>\n",
       "    <tr>\n",
       "      <th>2</th>\n",
       "      <td>68801721</td>\n",
       "      <td>ICT Teacher needed for the Blackpool area ASAP</td>\n",
       "      <td>Blackpool</td>\n",
       "      <td>ITN Mark Education</td>\n",
       "      <td>non-specified</td>\n",
       "      <td>non-specified</td>\n",
       "      <td>Teaching Jobs</td>\n",
       "      <td>22000.0</td>\n",
       "      <td>2013-10-20 00:00:00</td>\n",
       "      <td>2013-12-19 00:00:00</td>\n",
       "      <td>jobserve.com</td>\n",
       "    </tr>\n",
       "    <tr>\n",
       "      <th>3</th>\n",
       "      <td>71224107</td>\n",
       "      <td>Adult ITU Staff Nurse Required  Durham</td>\n",
       "      <td>North West England</td>\n",
       "      <td>Your World Healthcare</td>\n",
       "      <td>non-specified</td>\n",
       "      <td>non-specified</td>\n",
       "      <td>Healthcare &amp; Nursing Jobs</td>\n",
       "      <td>57600.0</td>\n",
       "      <td>2013-12-03 00:00:00</td>\n",
       "      <td>2013-12-17 00:00:00</td>\n",
       "      <td>cv-library.co.uk</td>\n",
       "    </tr>\n",
       "    <tr>\n",
       "      <th>4</th>\n",
       "      <td>66965635</td>\n",
       "      <td>Locum MSK Outpatients Physiotherapist Manchester</td>\n",
       "      <td>North West England</td>\n",
       "      <td>The Placement Group</td>\n",
       "      <td>non-specified</td>\n",
       "      <td>non-specified</td>\n",
       "      <td>Healthcare &amp; Nursing Jobs</td>\n",
       "      <td>48000.0</td>\n",
       "      <td>2012-08-03 12:00:00</td>\n",
       "      <td>2012-08-17 12:00:00</td>\n",
       "      <td>jobs.guardian.co.uk</td>\n",
       "    </tr>\n",
       "  </tbody>\n",
       "</table>\n",
       "</div>"
      ],
      "text/plain": [
       "         Id                                             Title  \\\n",
       "0  70091064                     Interim Compliance Consultant   \n",
       "1  70692942              ITU Nurses Required  Nottinghamshire   \n",
       "2  68801721    ICT Teacher needed for the Blackpool area ASAP   \n",
       "3  71224107            Adult ITU Staff Nurse Required  Durham   \n",
       "4  66965635  Locum MSK Outpatients Physiotherapist Manchester   \n",
       "\n",
       "             Location                       Company   ContractType  \\\n",
       "0  South East England  InterQuest Financial Markets  non-specified   \n",
       "1       East Midlands         Your World Healthcare  non-specified   \n",
       "2           Blackpool            ITN Mark Education  non-specified   \n",
       "3  North West England         Your World Healthcare  non-specified   \n",
       "4  North West England           The Placement Group  non-specified   \n",
       "\n",
       "    ContractTime                   Category   Salary             OpenDate  \\\n",
       "0  non-specified  Accounting & Finance Jobs  84000.0  2013-08-13 00:00:00   \n",
       "1  non-specified  Healthcare & Nursing Jobs  57600.0  2013-05-12 12:00:00   \n",
       "2  non-specified              Teaching Jobs  22000.0  2013-10-20 00:00:00   \n",
       "3  non-specified  Healthcare & Nursing Jobs  57600.0  2013-12-03 00:00:00   \n",
       "4  non-specified  Healthcare & Nursing Jobs  48000.0  2012-08-03 12:00:00   \n",
       "\n",
       "             CloseDate           SourceName  \n",
       "0  2013-10-12 00:00:00     contractjobs.com  \n",
       "1  2013-06-11 12:00:00        totaljobs.com  \n",
       "2  2013-12-19 00:00:00         jobserve.com  \n",
       "3  2013-12-17 00:00:00     cv-library.co.uk  \n",
       "4  2012-08-17 12:00:00  jobs.guardian.co.uk  "
      ]
     },
     "metadata": {},
     "output_type": "display_data"
    }
   ],
   "source": [
    "# read two datasets\n",
    "df1 = pd.read_csv(\"s3651761_dataset2.csv\")\n",
    "df2 = pd.read_csv(\"s3651761_dataset1_solution.csv\", float_precision =None)\n",
    "\n",
    "# Display two dataframes together to compare\n",
    "print('S1:' + str(df1.shape))\n",
    "display(df1.head())\n",
    "print('S2:' + str(df2.shape))\n",
    "display(df2.head())"
   ]
  },
  {
   "cell_type": "code",
   "execution_count": 3,
   "metadata": {},
   "outputs": [
    {
     "name": "stdout",
     "output_type": "stream",
     "text": [
      "<class 'pandas.core.frame.DataFrame'>\n",
      "RangeIndex: 5000 entries, 0 to 4999\n",
      "Data columns (total 9 columns):\n",
      " #   Column                      Non-Null Count  Dtype  \n",
      "---  ------                      --------------  -----  \n",
      " 0   Location                    5000 non-null   object \n",
      " 1   Job Title                   5000 non-null   object \n",
      " 2   Monthly Payment             5000 non-null   float64\n",
      " 3   Closing                     5000 non-null   object \n",
      " 4   Category                    5000 non-null   object \n",
      " 5   Type                        3593 non-null   object \n",
      " 6   Opening                     5000 non-null   object \n",
      " 7   Organisation                4531 non-null   object \n",
      " 8   Full-Time Equivalent (FTE)  5000 non-null   float64\n",
      "dtypes: float64(2), object(7)\n",
      "memory usage: 351.7+ KB\n",
      "None\n",
      "<class 'pandas.core.frame.DataFrame'>\n",
      "RangeIndex: 134 entries, 0 to 133\n",
      "Data columns (total 11 columns):\n",
      " #   Column        Non-Null Count  Dtype  \n",
      "---  ------        --------------  -----  \n",
      " 0   Id            134 non-null    int64  \n",
      " 1   Title         134 non-null    object \n",
      " 2   Location      134 non-null    object \n",
      " 3   Company       134 non-null    object \n",
      " 4   ContractType  134 non-null    object \n",
      " 5   ContractTime  134 non-null    object \n",
      " 6   Category      134 non-null    object \n",
      " 7   Salary        134 non-null    float64\n",
      " 8   OpenDate      134 non-null    object \n",
      " 9   CloseDate     134 non-null    object \n",
      " 10  SourceName    134 non-null    object \n",
      "dtypes: float64(1), int64(1), object(9)\n",
      "memory usage: 11.6+ KB\n",
      "None\n"
     ]
    }
   ],
   "source": [
    "print (df1.info())\n",
    "print (df2.info())"
   ]
  },
  {
   "cell_type": "markdown",
   "metadata": {},
   "source": []
  },
  {
   "cell_type": "code",
   "execution_count": 4,
   "metadata": {},
   "outputs": [
    {
     "name": "stdout",
     "output_type": "stream",
     "text": [
      "There are 0 duplicate records found\n"
     ]
    }
   ],
   "source": [
    "# check duplicate records\n",
    "duplicates = df1[df1.duplicated(keep=False)]\n",
    "print (\"There are \"+ str(len(duplicates)) + \" duplicate records found\")"
   ]
  },
  {
   "cell_type": "code",
   "execution_count": 5,
   "metadata": {},
   "outputs": [
    {
     "data": {
      "text/plain": [
       "Location                         0\n",
       "Job Title                        0\n",
       "Monthly Payment                  0\n",
       "Closing                          0\n",
       "Category                         0\n",
       "Type                          1407\n",
       "Opening                          0\n",
       "Organisation                   469\n",
       "Full-Time Equivalent (FTE)       0\n",
       "dtype: int64"
      ]
     },
     "execution_count": 5,
     "metadata": {},
     "output_type": "execute_result"
    }
   ],
   "source": [
    "# display number of missing values\n",
    "df1.isnull().sum()"
   ]
  },
  {
   "cell_type": "markdown",
   "metadata": {},
   "source": [
    "### 2. Resolving schema conflicts"
   ]
  },
  {
   "cell_type": "markdown",
   "metadata": {},
   "source": [
    "Since in task 1 and task 2, we already adopt the schema of S2 as Table 1 and formated it as\n",
    "in Table 2, thus schema of S2 will be similar with the global schema. Therefore, the next step is to map S1 to global schema (S2). "
   ]
  },
  {
   "cell_type": "markdown",
   "metadata": {},
   "source": [
    "Global schema: \n",
    "- `Id` - [Integer] - 8 digit integer. Note you should not change the values of the Id.\n",
    "\n",
    "- `Title` -  [String] - If there is no title information, the value should be ‘non-specified’.\n",
    "\n",
    "- `Location` - [String] - If there is no location information, the value should be ‘non-specified’.\n",
    "\n",
    "- `Company`  - [String] - If there is no company information, the value should be ‘non-specified’.\n",
    "\n",
    "- `ContractType` -[String] - It could be ‘full_time’, ‘part_time’ or ‘non-specified’.\n",
    "\n",
    "- `ContractTime`- [String] - It could be ‘permanent’, ‘contract’ or ‘non-specified’.\n",
    "\n",
    "- `Category`- [String]  - There are 8 possible categories: ‘IT Jobs’, ‘Healthcare & Nursing Jobs’,\n",
    "‘Engineering Jobs’, ‘Accounting & Finance Jobs’, ‘Sales Jobs’, ‘Hospitality & Catering\n",
    "Jobs’, ‘Teaching Jobs’, ‘PR, Advertising & Marketing Jobs’.\n",
    "\n",
    "- `Salary`- [Float] - All the values need to be expressed to two decimal places. Also, all salary values must be valid float numbers and not null.\n",
    "- `OpenDate` -[Datetime] - All the values need to be in the datetime format, yyyy-mm-dd hh:mm:ss\n",
    "\n",
    "- `CloseDate` -[Datetime] - All the values need to be in the datetime format, yyyy-mm-dd hh:mm:ss\n",
    "\n",
    "- `SourceName`- [String] - If there is no source information, the value should be ‘non-specified’."
   ]
  },
  {
   "cell_type": "markdown",
   "metadata": {},
   "source": [
    "#### Conflict 1: Job Title vs Title \n",
    "In S1, we have Job Title which is the Title in global schema. We'll map S1 to global schema by renaming the column."
   ]
  },
  {
   "cell_type": "code",
   "execution_count": 6,
   "metadata": {},
   "outputs": [
    {
     "data": {
      "text/plain": [
       "0                                          Lead CRA UK\n",
       "1                                   Possession Manager\n",
       "2    NVQ Assessor Banking/Financial Services Salary...\n",
       "3                        HEAD OF CARE (RGN/RMN)  Poole\n",
       "4                                       SQL Server DBA\n",
       "Name: Title, dtype: object"
      ]
     },
     "execution_count": 6,
     "metadata": {},
     "output_type": "execute_result"
    }
   ],
   "source": [
    "# rename column \n",
    "df1.rename(columns = {'Job Title':'Title'}, inplace = True)\n",
    "df1['Title'].head()"
   ]
  },
  {
   "cell_type": "markdown",
   "metadata": {},
   "source": [
    "#### Conflict 2: S1 has no column 'Id'\n",
    "We'll use index column as Id and set generate unique 8-digits integersfor Id bu uing random library . Next convert Id from string to integer."
   ]
  },
  {
   "cell_type": "code",
   "execution_count": 7,
   "metadata": {},
   "outputs": [],
   "source": [
    "# set index colum as Id\n",
    "df1.reset_index(inplace=True)\n",
    "# rename column as global schema\n",
    "df1 = df1.rename(columns = {'index':'Id'})"
   ]
  },
  {
   "cell_type": "code",
   "execution_count": 8,
   "metadata": {},
   "outputs": [
    {
     "data": {
      "text/plain": [
       "0    82530642\n",
       "1    75427475\n",
       "2    63913041\n",
       "3    72856490\n",
       "4    45249310\n",
       "Name: Id, dtype: int64"
      ]
     },
     "execution_count": 8,
     "metadata": {},
     "output_type": "execute_result"
    }
   ],
   "source": [
    "import random\n",
    "\n",
    "original_ids = df1['Id'].unique()  # store unique number in original_ids\n",
    "while True:\n",
    "    new_ids = {id_: random.randint(10000000, 99999999) for id_ in original_ids}  # dictionary contain id\n",
    "    if len(set(new_ids.values())) == len(original_ids): \n",
    "        # all the generated id's were unique\n",
    "        break\n",
    "    # otherwise this will repeat until they are\n",
    "\n",
    "df1['Id'] = df1['Id'].map(new_ids)\n",
    "df1['Id'].head()"
   ]
  },
  {
   "cell_type": "code",
   "execution_count": 9,
   "metadata": {},
   "outputs": [
    {
     "data": {
      "text/plain": [
       "dtype('int64')"
      ]
     },
     "execution_count": 9,
     "metadata": {},
     "output_type": "execute_result"
    }
   ],
   "source": [
    "# check whether Id are integer\n",
    "df1.Id.dtype"
   ]
  },
  {
   "cell_type": "markdown",
   "metadata": {},
   "source": [
    "#### Conflict 3: 'Monthly Payment' vs 'Salary'\n",
    "As the global schema dont have monthly salary, it has annual salary, we'll convert Monthly Payment of S1 to annual Salary as global schma. We then rename the column to Salary as global schema. "
   ]
  },
  {
   "cell_type": "code",
   "execution_count": 10,
   "metadata": {},
   "outputs": [],
   "source": [
    "# convert monthly salary to annual salary\n",
    "df1['Monthly Payment'] = df1['Monthly Payment'] *12\n",
    "\n",
    "# rename column as global schema\n",
    "df1.rename(columns = {'Monthly Payment':'Salary'}, inplace = True)"
   ]
  },
  {
   "cell_type": "code",
   "execution_count": 11,
   "metadata": {},
   "outputs": [
    {
     "data": {
      "text/plain": [
       "0    54999.96\n",
       "1    33750.00\n",
       "2    21500.04\n",
       "3    35000.04\n",
       "4    37500.00\n",
       "Name: Salary, dtype: float64"
      ]
     },
     "execution_count": 11,
     "metadata": {},
     "output_type": "execute_result"
    }
   ],
   "source": [
    "# check again df1 \n",
    "df1['Salary'].head()"
   ]
  },
  {
   "cell_type": "markdown",
   "metadata": {},
   "source": [
    "#### Conflict 4: values of  'Category' "
   ]
  },
  {
   "cell_type": "markdown",
   "metadata": {},
   "source": []
  },
  {
   "cell_type": "code",
   "execution_count": 12,
   "metadata": {},
   "outputs": [
    {
     "data": {
      "text/plain": [
       "Information Technology    1251\n",
       "Health                     804\n",
       "Engineering                732\n",
       "Finance                    675\n",
       "Sales                      517\n",
       "Hospitality                436\n",
       "Education                  341\n",
       "Marketing                  244\n",
       "Name: Category, dtype: int64"
      ]
     },
     "execution_count": 12,
     "metadata": {},
     "output_type": "execute_result"
    }
   ],
   "source": [
    "# check unique values \n",
    "df1.Category. value_counts()"
   ]
  },
  {
   "cell_type": "markdown",
   "metadata": {},
   "source": [
    "We can see the values of Category in S1 not match the value of Category in global schema. We need to replace these values as required: \n",
    "`Category` : ‘IT Jobs’, ‘Healthcare & Nursing Jobs’, ‘Engineering Jobs’, ‘Accounting & Finance Jobs’, ‘Sales Jobs’, ‘Hospitality & Catering Jobs’, ‘Teaching Jobs’, ‘PR, Advertising & Marketing Jobs’."
   ]
  },
  {
   "cell_type": "code",
   "execution_count": 13,
   "metadata": {},
   "outputs": [],
   "source": [
    "# create a dictionary for replace task\n",
    "replace_dict ={'Information Technology':'IT Jobs', 'Health': 'Healthcare & Nursing Jobs', 'Engineering' : 'Engineering Jobs',\n",
    "              'Finance' :'Accounting & Finance Jobs', 'Sales':'Sales Jobs', 'Hospitality':'Hospitality & Catering Jobs',\n",
    "              'Education': 'Teaching Jobs', 'Marketing': 'PR, Advertising & Marketing Jobs'}"
   ]
  },
  {
   "cell_type": "code",
   "execution_count": 14,
   "metadata": {},
   "outputs": [
    {
     "data": {
      "text/plain": [
       "IT Jobs                             1251\n",
       "Healthcare & Nursing Jobs            804\n",
       "Engineering Jobs                     732\n",
       "Accounting & Finance Jobs            675\n",
       "Sales Jobs                           517\n",
       "Hospitality & Catering Jobs          436\n",
       "Teaching Jobs                        341\n",
       "PR, Advertising & Marketing Jobs     244\n",
       "Name: Category, dtype: int64"
      ]
     },
     "execution_count": 14,
     "metadata": {},
     "output_type": "execute_result"
    }
   ],
   "source": [
    "# replace values match values of global schema\n",
    "df1['Category'].replace (replace_dict, inplace=True)\n",
    "# check again\n",
    "df1.Category. value_counts()"
   ]
  },
  {
   "cell_type": "markdown",
   "metadata": {},
   "source": [
    "#### Conflict 5: 'Closing' and 'Opening' vs 'CloseDate' and 'OpenDate'\n",
    "`OpenDate` -[Datetime] - All the values need to be in the datetime format, yyyy-mm-dd hh:mm:ss\n",
    "\n",
    "`CloseDate` -[Datetime] - All the values need to be in the datetime format, yyyy-mm-dd hh:mm:ss\n",
    "\n",
    "For these two columns, we only need to rename the column because they already in the required format."
   ]
  },
  {
   "cell_type": "code",
   "execution_count": 15,
   "metadata": {},
   "outputs": [
    {
     "data": {
      "text/plain": [
       "0    2012-03-08 12:00:00\n",
       "1    2013-09-06 12:00:00\n",
       "Name: CloseDate, dtype: object"
      ]
     },
     "execution_count": 15,
     "metadata": {},
     "output_type": "execute_result"
    }
   ],
   "source": [
    "# rename column\n",
    "df1.rename(columns = {'Closing':'CloseDate'}, inplace = True)\n",
    "df1.CloseDate.head(2)"
   ]
  },
  {
   "cell_type": "code",
   "execution_count": 16,
   "metadata": {},
   "outputs": [
    {
     "data": {
      "text/plain": [
       "0    2012-01-08 12:00:00\n",
       "1    2013-08-07 12:00:00\n",
       "Name: OpenDate, dtype: object"
      ]
     },
     "execution_count": 16,
     "metadata": {},
     "output_type": "execute_result"
    }
   ],
   "source": [
    "# rename column\n",
    "df1.rename(columns = {'Opening':'OpenDate'}, inplace = True)\n",
    "df1.OpenDate.head(2)"
   ]
  },
  {
   "cell_type": "markdown",
   "metadata": {},
   "source": [
    "#### Conflict 6: Organisation vs Company named,  Organisation has missing values\n",
    "`Company`  - [String] - If there is no company information, the value should be ‘non-specified’.\n",
    "\n",
    "Let's check the output of df1.info() above, there are 469 missing values in Organisation. To match the global schema we need to fill these null values with 'non-specified'. Then we will rename this attribute to Company. "
   ]
  },
  {
   "cell_type": "code",
   "execution_count": 17,
   "metadata": {},
   "outputs": [],
   "source": [
    "# fill null values with non-specified\n",
    "df1['Organisation'].replace (np.nan,'non-specified', inplace=True) # np.nan is using numpy to detect missing values "
   ]
  },
  {
   "cell_type": "code",
   "execution_count": 18,
   "metadata": {},
   "outputs": [
    {
     "data": {
      "text/plain": [
       "non-specified                      469\n",
       "UKStaffsearch                       52\n",
       "CVbrowser                           34\n",
       "Randstad                            30\n",
       "Matchtech Group plc.                28\n",
       "                                  ... \n",
       "Infinitium Recruitment               1\n",
       "MAIDENHALL PRIMARY SCHOOL            1\n",
       "Red Personnel Ltd                    1\n",
       "Alan E. Heckler, PC                  1\n",
       "Radnorshire Healthy Friendships      1\n",
       "Name: Company, Length: 2482, dtype: int64"
      ]
     },
     "execution_count": 18,
     "metadata": {},
     "output_type": "execute_result"
    }
   ],
   "source": [
    "# rename columns \n",
    "df1.rename(columns = {'Organisation':'Company'}, inplace = True)\n",
    "\n",
    "# check again\n",
    "df1.Company.value_counts()"
   ]
  },
  {
   "cell_type": "markdown",
   "metadata": {},
   "source": [
    "#### Conflict 7: Type vs ContractTime conflict named and inconsistent values\n",
    "The possible values of Type in S1 aare 'Permanent', 'Fixed Term Contract' while the values of ContractTime in global schema are \n",
    "`ContractTime` -  [String] : ‘permanent’, ‘contract’ or ‘non-specified’.\n",
    "\n",
    "As Type contains 'Fixed Term Contract' that not listed in the global schema. We'll need to replace it as 'contract'. Then rename the atribute to ContractTime. Next, there are 1407 missing values in Type, we'll replace with 'non-specified' as global schema. "
   ]
  },
  {
   "cell_type": "code",
   "execution_count": 19,
   "metadata": {},
   "outputs": [
    {
     "data": {
      "text/plain": [
       "Permanent              3034\n",
       "Fixed Term Contract     559\n",
       "Name: Type, dtype: int64"
      ]
     },
     "execution_count": 19,
     "metadata": {},
     "output_type": "execute_result"
    }
   ],
   "source": [
    "# check unique values\n",
    "df1.Type.value_counts()"
   ]
  },
  {
   "cell_type": "code",
   "execution_count": 20,
   "metadata": {},
   "outputs": [
    {
     "data": {
      "text/plain": [
       "Id                               0\n",
       "Location                         0\n",
       "Title                            0\n",
       "Salary                           0\n",
       "CloseDate                        0\n",
       "Category                         0\n",
       "Type                          1407\n",
       "OpenDate                         0\n",
       "Company                          0\n",
       "Full-Time Equivalent (FTE)       0\n",
       "dtype: int64"
      ]
     },
     "execution_count": 20,
     "metadata": {},
     "output_type": "execute_result"
    }
   ],
   "source": [
    "#check null\n",
    "df1.isnull().sum()"
   ]
  },
  {
   "cell_type": "code",
   "execution_count": 21,
   "metadata": {},
   "outputs": [],
   "source": [
    "# fill null with 'non-specified' as global schema\n",
    "df1['Type'].replace (np.nan,'non-specified', inplace=True)\n",
    "df1['Type'].replace ('Fixed Term Contract','Contract', inplace=True)"
   ]
  },
  {
   "cell_type": "code",
   "execution_count": 22,
   "metadata": {},
   "outputs": [],
   "source": [
    "# rename attribute as global schema\n",
    "df1.rename(columns = {'Type':'ContractTime'}, inplace = True)"
   ]
  },
  {
   "cell_type": "code",
   "execution_count": 23,
   "metadata": {},
   "outputs": [
    {
     "data": {
      "text/plain": [
       "Permanent        3034\n",
       "non-specified    1407\n",
       "Contract          559\n",
       "Name: ContractTime, dtype: int64"
      ]
     },
     "execution_count": 23,
     "metadata": {},
     "output_type": "execute_result"
    }
   ],
   "source": [
    "# double check again\n",
    "df1.ContractTime.value_counts()"
   ]
  },
  {
   "cell_type": "markdown",
   "metadata": {},
   "source": [
    "#### Conflict 8: Full-Time Equivalent (FTE) vs ContractType named and inconsistent values\n",
    "\n",
    "As 'Full-Time Equivalent (FTE)' mention type of contract so it should related to attribute ContractType in global schema. We assumne that 1.0 is full_time, others are part_time. Thus, in this section we'll resolve the conflict by replacing values and rename the attribute. \n",
    "\n",
    "`ContractType`: ‘full_time’, ‘part_time’ or ‘non-specified’."
   ]
  },
  {
   "cell_type": "code",
   "execution_count": 24,
   "metadata": {},
   "outputs": [
    {
     "data": {
      "text/plain": [
       "1.0    4857\n",
       "0.2      39\n",
       "0.8      36\n",
       "0.6      36\n",
       "0.4      32\n",
       "Name: Full-Time Equivalent (FTE), dtype: int64"
      ]
     },
     "execution_count": 24,
     "metadata": {},
     "output_type": "execute_result"
    }
   ],
   "source": [
    "# check unique values\n",
    "df1['Full-Time Equivalent (FTE)'].value_counts()"
   ]
  },
  {
   "cell_type": "code",
   "execution_count": 25,
   "metadata": {},
   "outputs": [],
   "source": [
    "# replace values\n",
    "replace_dict = {1.0:'full_time',0.2:'part_time',0.4:'part_time',0.6:'part_time',0.8:'part_time' }\n",
    "df1['Full-Time Equivalent (FTE)'].replace (replace_dict, inplace=True)"
   ]
  },
  {
   "cell_type": "code",
   "execution_count": 26,
   "metadata": {},
   "outputs": [],
   "source": [
    "# rename atttribute\n",
    "df1.rename(columns = {'Full-Time Equivalent (FTE)':'ContractType'}, inplace = True)"
   ]
  },
  {
   "cell_type": "code",
   "execution_count": 27,
   "metadata": {},
   "outputs": [
    {
     "data": {
      "text/plain": [
       "full_time    4857\n",
       "part_time     143\n",
       "Name: ContractType, dtype: int64"
      ]
     },
     "execution_count": 27,
     "metadata": {},
     "output_type": "execute_result"
    }
   ],
   "source": [
    "# double check wheather it match global schema\n",
    "df1.ContractType.value_counts()"
   ]
  },
  {
   "cell_type": "markdown",
   "metadata": {},
   "source": [
    "#### Conflict 9: S1 don't have attribute SourceName\n",
    "To resolve this conflict, we'll create a new column for S1 and concatenate it to df1. Since we have no glue the values of SourceName, we will fill the whole column with 'non-specified'."
   ]
  },
  {
   "cell_type": "code",
   "execution_count": 28,
   "metadata": {},
   "outputs": [
    {
     "data": {
      "text/html": [
       "<div>\n",
       "<style scoped>\n",
       "    .dataframe tbody tr th:only-of-type {\n",
       "        vertical-align: middle;\n",
       "    }\n",
       "\n",
       "    .dataframe tbody tr th {\n",
       "        vertical-align: top;\n",
       "    }\n",
       "\n",
       "    .dataframe thead th {\n",
       "        text-align: right;\n",
       "    }\n",
       "</style>\n",
       "<table border=\"1\" class=\"dataframe\">\n",
       "  <thead>\n",
       "    <tr style=\"text-align: right;\">\n",
       "      <th></th>\n",
       "      <th>SourceName</th>\n",
       "    </tr>\n",
       "  </thead>\n",
       "  <tbody>\n",
       "    <tr>\n",
       "      <th>0</th>\n",
       "      <td>non-specified</td>\n",
       "    </tr>\n",
       "  </tbody>\n",
       "</table>\n",
       "</div>"
      ],
      "text/plain": [
       "      SourceName\n",
       "0  non-specified"
      ]
     },
     "execution_count": 28,
     "metadata": {},
     "output_type": "execute_result"
    }
   ],
   "source": [
    "# create datafrane contain only one colum SourceName\n",
    "df_SourceName = pd.DataFrame({'SourceName':['non-specified']})\n",
    "df_SourceName"
   ]
  },
  {
   "cell_type": "code",
   "execution_count": 29,
   "metadata": {},
   "outputs": [],
   "source": [
    "# concate df1 and df_Sourcename \n",
    "df1=pd.concat([df1,df_SourceName], axis=1)"
   ]
  },
  {
   "cell_type": "code",
   "execution_count": 30,
   "metadata": {},
   "outputs": [],
   "source": [
    "# replce null values of SourceName with non-specified as required\n",
    "df1.SourceName.replace(np.nan,'non-specified', inplace=True)"
   ]
  },
  {
   "cell_type": "code",
   "execution_count": 31,
   "metadata": {},
   "outputs": [
    {
     "data": {
      "text/html": [
       "<div>\n",
       "<style scoped>\n",
       "    .dataframe tbody tr th:only-of-type {\n",
       "        vertical-align: middle;\n",
       "    }\n",
       "\n",
       "    .dataframe tbody tr th {\n",
       "        vertical-align: top;\n",
       "    }\n",
       "\n",
       "    .dataframe thead th {\n",
       "        text-align: right;\n",
       "    }\n",
       "</style>\n",
       "<table border=\"1\" class=\"dataframe\">\n",
       "  <thead>\n",
       "    <tr style=\"text-align: right;\">\n",
       "      <th></th>\n",
       "      <th>Id</th>\n",
       "      <th>Location</th>\n",
       "      <th>Title</th>\n",
       "      <th>Salary</th>\n",
       "      <th>CloseDate</th>\n",
       "      <th>Category</th>\n",
       "      <th>ContractTime</th>\n",
       "      <th>OpenDate</th>\n",
       "      <th>Company</th>\n",
       "      <th>ContractType</th>\n",
       "      <th>SourceName</th>\n",
       "    </tr>\n",
       "  </thead>\n",
       "  <tbody>\n",
       "    <tr>\n",
       "      <th>4253</th>\n",
       "      <td>30182129</td>\n",
       "      <td>Coscote</td>\n",
       "      <td>Graduate Software Developer (****)  Maths, C++...</td>\n",
       "      <td>32499.96</td>\n",
       "      <td>2013-08-24 12:00:00</td>\n",
       "      <td>IT Jobs</td>\n",
       "      <td>Permanent</td>\n",
       "      <td>2013-07-25 12:00:00</td>\n",
       "      <td>Monarch Recruitment Ltd.</td>\n",
       "      <td>full_time</td>\n",
       "      <td>non-specified</td>\n",
       "    </tr>\n",
       "    <tr>\n",
       "      <th>1849</th>\n",
       "      <td>35611361</td>\n",
       "      <td>UK</td>\n",
       "      <td>Facilities / Reception Manager</td>\n",
       "      <td>23000.04</td>\n",
       "      <td>2012-04-05 12:00:00</td>\n",
       "      <td>Accounting &amp; Finance Jobs</td>\n",
       "      <td>Contract</td>\n",
       "      <td>2012-03-06 12:00:00</td>\n",
       "      <td>The Hood Group</td>\n",
       "      <td>full_time</td>\n",
       "      <td>non-specified</td>\n",
       "    </tr>\n",
       "    <tr>\n",
       "      <th>382</th>\n",
       "      <td>30106474</td>\n",
       "      <td>Merseyside</td>\n",
       "      <td>VBNet, ASPNet, HTML5 Developer  Liverpool</td>\n",
       "      <td>30500.04</td>\n",
       "      <td>2013-03-31 15:00:00</td>\n",
       "      <td>IT Jobs</td>\n",
       "      <td>Permanent</td>\n",
       "      <td>2013-01-30 15:00:00</td>\n",
       "      <td>Monarch Recruitment</td>\n",
       "      <td>full_time</td>\n",
       "      <td>non-specified</td>\n",
       "    </tr>\n",
       "  </tbody>\n",
       "</table>\n",
       "</div>"
      ],
      "text/plain": [
       "            Id    Location                                              Title  \\\n",
       "4253  30182129     Coscote  Graduate Software Developer (****)  Maths, C++...   \n",
       "1849  35611361          UK                     Facilities / Reception Manager   \n",
       "382   30106474  Merseyside          VBNet, ASPNet, HTML5 Developer  Liverpool   \n",
       "\n",
       "        Salary            CloseDate                   Category ContractTime  \\\n",
       "4253  32499.96  2013-08-24 12:00:00                    IT Jobs    Permanent   \n",
       "1849  23000.04  2012-04-05 12:00:00  Accounting & Finance Jobs     Contract   \n",
       "382   30500.04  2013-03-31 15:00:00                    IT Jobs    Permanent   \n",
       "\n",
       "                 OpenDate                   Company ContractType  \\\n",
       "4253  2013-07-25 12:00:00  Monarch Recruitment Ltd.    full_time   \n",
       "1849  2012-03-06 12:00:00            The Hood Group    full_time   \n",
       "382   2013-01-30 15:00:00       Monarch Recruitment    full_time   \n",
       "\n",
       "         SourceName  \n",
       "4253  non-specified  \n",
       "1849  non-specified  \n",
       "382   non-specified  "
      ]
     },
     "execution_count": 31,
     "metadata": {},
     "output_type": "execute_result"
    }
   ],
   "source": [
    "# double check whether the conflict of S1 resolve\n",
    "df1.sample(3)"
   ]
  },
  {
   "cell_type": "code",
   "execution_count": 32,
   "metadata": {},
   "outputs": [
    {
     "data": {
      "text/html": [
       "<div>\n",
       "<style scoped>\n",
       "    .dataframe tbody tr th:only-of-type {\n",
       "        vertical-align: middle;\n",
       "    }\n",
       "\n",
       "    .dataframe tbody tr th {\n",
       "        vertical-align: top;\n",
       "    }\n",
       "\n",
       "    .dataframe thead th {\n",
       "        text-align: right;\n",
       "    }\n",
       "</style>\n",
       "<table border=\"1\" class=\"dataframe\">\n",
       "  <thead>\n",
       "    <tr style=\"text-align: right;\">\n",
       "      <th></th>\n",
       "      <th>Id</th>\n",
       "      <th>Title</th>\n",
       "      <th>Location</th>\n",
       "      <th>Company</th>\n",
       "      <th>ContractType</th>\n",
       "      <th>ContractTime</th>\n",
       "      <th>Category</th>\n",
       "      <th>Salary</th>\n",
       "      <th>OpenDate</th>\n",
       "      <th>CloseDate</th>\n",
       "      <th>SourceName</th>\n",
       "    </tr>\n",
       "  </thead>\n",
       "  <tbody>\n",
       "    <tr>\n",
       "      <th>125</th>\n",
       "      <td>70091523</td>\n",
       "      <td>Locum Occupational Therapist Community</td>\n",
       "      <td>West Midlands</td>\n",
       "      <td>The Placement Group</td>\n",
       "      <td>non-specified</td>\n",
       "      <td>non-specified</td>\n",
       "      <td>Healthcare &amp; Nursing Jobs</td>\n",
       "      <td>43200.0</td>\n",
       "      <td>2013-05-31 15:00:00</td>\n",
       "      <td>2013-07-30 15:00:00</td>\n",
       "      <td>non-specified</td>\n",
       "    </tr>\n",
       "    <tr>\n",
       "      <th>62</th>\n",
       "      <td>69686619</td>\n",
       "      <td>Locum Community Respiratory Physiotherapist Bu...</td>\n",
       "      <td>South East England</td>\n",
       "      <td>The Placement Group</td>\n",
       "      <td>non-specified</td>\n",
       "      <td>non-specified</td>\n",
       "      <td>Healthcare &amp; Nursing Jobs</td>\n",
       "      <td>5880.0</td>\n",
       "      <td>2012-03-30 15:00:00</td>\n",
       "      <td>2012-04-13 15:00:00</td>\n",
       "      <td>cvbrowser.com</td>\n",
       "    </tr>\n",
       "    <tr>\n",
       "      <th>12</th>\n",
       "      <td>66601865</td>\n",
       "      <td>Podiatrist  Peterborough</td>\n",
       "      <td>Isle Of Wight</td>\n",
       "      <td>The Placement Group</td>\n",
       "      <td>non-specified</td>\n",
       "      <td>non-specified</td>\n",
       "      <td>Healthcare &amp; Nursing Jobs</td>\n",
       "      <td>39360.0</td>\n",
       "      <td>2012-05-02 15:00:00</td>\n",
       "      <td>2012-07-01 15:00:00</td>\n",
       "      <td>jobsinscotland.com</td>\n",
       "    </tr>\n",
       "  </tbody>\n",
       "</table>\n",
       "</div>"
      ],
      "text/plain": [
       "           Id                                              Title  \\\n",
       "125  70091523             Locum Occupational Therapist Community   \n",
       "62   69686619  Locum Community Respiratory Physiotherapist Bu...   \n",
       "12   66601865                           Podiatrist  Peterborough   \n",
       "\n",
       "               Location              Company   ContractType   ContractTime  \\\n",
       "125       West Midlands  The Placement Group  non-specified  non-specified   \n",
       "62   South East England  The Placement Group  non-specified  non-specified   \n",
       "12        Isle Of Wight  The Placement Group  non-specified  non-specified   \n",
       "\n",
       "                      Category   Salary             OpenDate  \\\n",
       "125  Healthcare & Nursing Jobs  43200.0  2013-05-31 15:00:00   \n",
       "62   Healthcare & Nursing Jobs   5880.0  2012-03-30 15:00:00   \n",
       "12   Healthcare & Nursing Jobs  39360.0  2012-05-02 15:00:00   \n",
       "\n",
       "               CloseDate          SourceName  \n",
       "125  2013-07-30 15:00:00       non-specified  \n",
       "62   2012-04-13 15:00:00       cvbrowser.com  \n",
       "12   2012-07-01 15:00:00  jobsinscotland.com  "
      ]
     },
     "execution_count": 32,
     "metadata": {},
     "output_type": "execute_result"
    }
   ],
   "source": [
    "df2.sample(3)"
   ]
  },
  {
   "cell_type": "markdown",
   "metadata": {},
   "source": [
    "#### Adapt datatypes across schemas S1 and S2\n",
    "Just do double checking on the data types and make them consistent between S1 and S2 before merging."
   ]
  },
  {
   "cell_type": "code",
   "execution_count": 33,
   "metadata": {},
   "outputs": [
    {
     "name": "stdout",
     "output_type": "stream",
     "text": [
      "<class 'pandas.core.frame.DataFrame'>\n",
      "Int64Index: 5000 entries, 0 to 4999\n",
      "Data columns (total 11 columns):\n",
      " #   Column        Non-Null Count  Dtype  \n",
      "---  ------        --------------  -----  \n",
      " 0   Id            5000 non-null   int64  \n",
      " 1   Location      5000 non-null   object \n",
      " 2   Title         5000 non-null   object \n",
      " 3   Salary        5000 non-null   float64\n",
      " 4   CloseDate     5000 non-null   object \n",
      " 5   Category      5000 non-null   object \n",
      " 6   ContractTime  5000 non-null   object \n",
      " 7   OpenDate      5000 non-null   object \n",
      " 8   Company       5000 non-null   object \n",
      " 9   ContractType  5000 non-null   object \n",
      " 10  SourceName    5000 non-null   object \n",
      "dtypes: float64(1), int64(1), object(9)\n",
      "memory usage: 468.8+ KB\n",
      "None\n",
      "<class 'pandas.core.frame.DataFrame'>\n",
      "RangeIndex: 134 entries, 0 to 133\n",
      "Data columns (total 11 columns):\n",
      " #   Column        Non-Null Count  Dtype  \n",
      "---  ------        --------------  -----  \n",
      " 0   Id            134 non-null    int64  \n",
      " 1   Title         134 non-null    object \n",
      " 2   Location      134 non-null    object \n",
      " 3   Company       134 non-null    object \n",
      " 4   ContractType  134 non-null    object \n",
      " 5   ContractTime  134 non-null    object \n",
      " 6   Category      134 non-null    object \n",
      " 7   Salary        134 non-null    float64\n",
      " 8   OpenDate      134 non-null    object \n",
      " 9   CloseDate     134 non-null    object \n",
      " 10  SourceName    134 non-null    object \n",
      "dtypes: float64(1), int64(1), object(9)\n",
      "memory usage: 11.6+ KB\n",
      "None\n"
     ]
    }
   ],
   "source": [
    "print (df1.info())\n",
    "print (df2.info())"
   ]
  },
  {
   "cell_type": "code",
   "execution_count": 34,
   "metadata": {},
   "outputs": [],
   "source": [
    "# now adapt the datatypes in S1 to match S2\n",
    "for y in [c for c in df1.columns if c in df2.columns]: # common columns\n",
    "    if df1[y].dtype != df2[y].dtype:\n",
    "        print (\"Column \" + y + \"in df1: \"+ str(df1[y].dtype) + \"to\" + str(df2[y].dtype))\n",
    "        df1[y] = df1[y].astype(df2[y].dtype) "
   ]
  },
  {
   "cell_type": "code",
   "execution_count": null,
   "metadata": {},
   "outputs": [],
   "source": []
  },
  {
   "cell_type": "markdown",
   "metadata": {},
   "source": [
    "### 3. Merging data\n",
    "We can now merge the two datasets into one."
   ]
  },
  {
   "cell_type": "code",
   "execution_count": 35,
   "metadata": {},
   "outputs": [
    {
     "name": "stdout",
     "output_type": "stream",
     "text": [
      "(5134, 11)\n"
     ]
    },
    {
     "data": {
      "text/html": [
       "<div>\n",
       "<style scoped>\n",
       "    .dataframe tbody tr th:only-of-type {\n",
       "        vertical-align: middle;\n",
       "    }\n",
       "\n",
       "    .dataframe tbody tr th {\n",
       "        vertical-align: top;\n",
       "    }\n",
       "\n",
       "    .dataframe thead th {\n",
       "        text-align: right;\n",
       "    }\n",
       "</style>\n",
       "<table border=\"1\" class=\"dataframe\">\n",
       "  <thead>\n",
       "    <tr style=\"text-align: right;\">\n",
       "      <th></th>\n",
       "      <th>Id</th>\n",
       "      <th>Location</th>\n",
       "      <th>Title</th>\n",
       "      <th>Salary</th>\n",
       "      <th>CloseDate</th>\n",
       "      <th>Category</th>\n",
       "      <th>ContractTime</th>\n",
       "      <th>OpenDate</th>\n",
       "      <th>Company</th>\n",
       "      <th>ContractType</th>\n",
       "      <th>SourceName</th>\n",
       "    </tr>\n",
       "  </thead>\n",
       "  <tbody>\n",
       "    <tr>\n",
       "      <th>811</th>\n",
       "      <td>86360771</td>\n",
       "      <td>Edinburgh</td>\n",
       "      <td>Home Manager (RGN or RMN)</td>\n",
       "      <td>37500.00</td>\n",
       "      <td>2013-11-09 12:00:00</td>\n",
       "      <td>Healthcare &amp; Nursing Jobs</td>\n",
       "      <td>non-specified</td>\n",
       "      <td>2013-10-10 12:00:00</td>\n",
       "      <td>non-specified</td>\n",
       "      <td>full_time</td>\n",
       "      <td>non-specified</td>\n",
       "    </tr>\n",
       "    <tr>\n",
       "      <th>4117</th>\n",
       "      <td>92098244</td>\n",
       "      <td>Crawley</td>\n",
       "      <td>Permanent Test Analyst : Crawley  ****K****K</td>\n",
       "      <td>32499.96</td>\n",
       "      <td>2012-11-02 15:00:00</td>\n",
       "      <td>IT Jobs</td>\n",
       "      <td>Permanent</td>\n",
       "      <td>2012-08-04 15:00:00</td>\n",
       "      <td>Clearwater People Solutions</td>\n",
       "      <td>full_time</td>\n",
       "      <td>non-specified</td>\n",
       "    </tr>\n",
       "    <tr>\n",
       "      <th>2225</th>\n",
       "      <td>80609791</td>\n",
       "      <td>Eastleigh</td>\n",
       "      <td>Bank Chef  Barchester Healthcare</td>\n",
       "      <td>15936.00</td>\n",
       "      <td>2013-10-05 12:00:00</td>\n",
       "      <td>Hospitality &amp; Catering Jobs</td>\n",
       "      <td>non-specified</td>\n",
       "      <td>2013-09-05 12:00:00</td>\n",
       "      <td>Barchester Healthcare Plc</td>\n",
       "      <td>full_time</td>\n",
       "      <td>non-specified</td>\n",
       "    </tr>\n",
       "    <tr>\n",
       "      <th>2946</th>\n",
       "      <td>59353946</td>\n",
       "      <td>UK</td>\n",
       "      <td>Service Team Leader (After Sales)</td>\n",
       "      <td>30000.00</td>\n",
       "      <td>2012-08-02 12:00:00</td>\n",
       "      <td>Engineering Jobs</td>\n",
       "      <td>Permanent</td>\n",
       "      <td>2012-06-03 12:00:00</td>\n",
       "      <td>Rise Technical Recruitment</td>\n",
       "      <td>full_time</td>\n",
       "      <td>non-specified</td>\n",
       "    </tr>\n",
       "    <tr>\n",
       "      <th>1955</th>\n",
       "      <td>31140277</td>\n",
       "      <td>London</td>\n",
       "      <td>MECHANICAL FITTER LONDON AND M3 CORRIDOR MOBIL...</td>\n",
       "      <td>33999.96</td>\n",
       "      <td>2013-10-11 15:00:00</td>\n",
       "      <td>Engineering Jobs</td>\n",
       "      <td>Permanent</td>\n",
       "      <td>2013-08-12 15:00:00</td>\n",
       "      <td>Randstad Construction, Property Engineering</td>\n",
       "      <td>full_time</td>\n",
       "      <td>non-specified</td>\n",
       "    </tr>\n",
       "    <tr>\n",
       "      <th>4779</th>\n",
       "      <td>82192363</td>\n",
       "      <td>Oxford</td>\n",
       "      <td>Channel Account Manager  Key Partner relations...</td>\n",
       "      <td>39999.96</td>\n",
       "      <td>2012-03-19 12:00:00</td>\n",
       "      <td>Sales Jobs</td>\n",
       "      <td>Permanent</td>\n",
       "      <td>2012-01-19 12:00:00</td>\n",
       "      <td>Sophos Plc</td>\n",
       "      <td>full_time</td>\n",
       "      <td>non-specified</td>\n",
       "    </tr>\n",
       "    <tr>\n",
       "      <th>2493</th>\n",
       "      <td>19294909</td>\n",
       "      <td>London</td>\n",
       "      <td>Freelance Principal CRA</td>\n",
       "      <td>54000.00</td>\n",
       "      <td>2013-03-16 00:00:00</td>\n",
       "      <td>Healthcare &amp; Nursing Jobs</td>\n",
       "      <td>non-specified</td>\n",
       "      <td>2013-03-02 00:00:00</td>\n",
       "      <td>SEC Recruitment</td>\n",
       "      <td>full_time</td>\n",
       "      <td>non-specified</td>\n",
       "    </tr>\n",
       "    <tr>\n",
       "      <th>88</th>\n",
       "      <td>70565336</td>\n",
       "      <td>South East England</td>\n",
       "      <td>Electro Mechanical Fitter</td>\n",
       "      <td>34560.00</td>\n",
       "      <td>2013-06-03 15:00:00</td>\n",
       "      <td>Engineering Jobs</td>\n",
       "      <td>non-specified</td>\n",
       "      <td>2013-05-20 15:00:00</td>\n",
       "      <td>Experis Engineering</td>\n",
       "      <td>non-specified</td>\n",
       "      <td>TotallyExec</td>\n",
       "    </tr>\n",
       "    <tr>\n",
       "      <th>1459</th>\n",
       "      <td>38957299</td>\n",
       "      <td>Burnley</td>\n",
       "      <td>Web Conversion Analyst</td>\n",
       "      <td>21000.00</td>\n",
       "      <td>2012-11-30 15:00:00</td>\n",
       "      <td>IT Jobs</td>\n",
       "      <td>Permanent</td>\n",
       "      <td>2012-10-01 15:00:00</td>\n",
       "      <td>IT Works Recruitment Ltd</td>\n",
       "      <td>full_time</td>\n",
       "      <td>non-specified</td>\n",
       "    </tr>\n",
       "    <tr>\n",
       "      <th>4585</th>\n",
       "      <td>51168362</td>\n",
       "      <td>Wiltshire</td>\n",
       "      <td>Composite Laminator F**** Wiltshire  3 Months</td>\n",
       "      <td>28800.00</td>\n",
       "      <td>2013-06-06 12:00:00</td>\n",
       "      <td>Engineering Jobs</td>\n",
       "      <td>Contract</td>\n",
       "      <td>2013-05-23 12:00:00</td>\n",
       "      <td>Vivid Resourcing Ltd</td>\n",
       "      <td>full_time</td>\n",
       "      <td>non-specified</td>\n",
       "    </tr>\n",
       "  </tbody>\n",
       "</table>\n",
       "</div>"
      ],
      "text/plain": [
       "            Id            Location  \\\n",
       "811   86360771           Edinburgh   \n",
       "4117  92098244             Crawley   \n",
       "2225  80609791           Eastleigh   \n",
       "2946  59353946                  UK   \n",
       "1955  31140277              London   \n",
       "4779  82192363              Oxford   \n",
       "2493  19294909              London   \n",
       "88    70565336  South East England   \n",
       "1459  38957299             Burnley   \n",
       "4585  51168362           Wiltshire   \n",
       "\n",
       "                                                  Title    Salary  \\\n",
       "811                           Home Manager (RGN or RMN)  37500.00   \n",
       "4117       Permanent Test Analyst : Crawley  ****K****K  32499.96   \n",
       "2225                   Bank Chef  Barchester Healthcare  15936.00   \n",
       "2946                  Service Team Leader (After Sales)  30000.00   \n",
       "1955  MECHANICAL FITTER LONDON AND M3 CORRIDOR MOBIL...  33999.96   \n",
       "4779  Channel Account Manager  Key Partner relations...  39999.96   \n",
       "2493                            Freelance Principal CRA  54000.00   \n",
       "88                            Electro Mechanical Fitter  34560.00   \n",
       "1459                             Web Conversion Analyst  21000.00   \n",
       "4585      Composite Laminator F**** Wiltshire  3 Months  28800.00   \n",
       "\n",
       "                CloseDate                     Category   ContractTime  \\\n",
       "811   2013-11-09 12:00:00    Healthcare & Nursing Jobs  non-specified   \n",
       "4117  2012-11-02 15:00:00                      IT Jobs      Permanent   \n",
       "2225  2013-10-05 12:00:00  Hospitality & Catering Jobs  non-specified   \n",
       "2946  2012-08-02 12:00:00             Engineering Jobs      Permanent   \n",
       "1955  2013-10-11 15:00:00             Engineering Jobs      Permanent   \n",
       "4779  2012-03-19 12:00:00                   Sales Jobs      Permanent   \n",
       "2493  2013-03-16 00:00:00    Healthcare & Nursing Jobs  non-specified   \n",
       "88    2013-06-03 15:00:00             Engineering Jobs  non-specified   \n",
       "1459  2012-11-30 15:00:00                      IT Jobs      Permanent   \n",
       "4585  2013-06-06 12:00:00             Engineering Jobs       Contract   \n",
       "\n",
       "                 OpenDate                                      Company  \\\n",
       "811   2013-10-10 12:00:00                                non-specified   \n",
       "4117  2012-08-04 15:00:00                  Clearwater People Solutions   \n",
       "2225  2013-09-05 12:00:00                    Barchester Healthcare Plc   \n",
       "2946  2012-06-03 12:00:00                   Rise Technical Recruitment   \n",
       "1955  2013-08-12 15:00:00  Randstad Construction, Property Engineering   \n",
       "4779  2012-01-19 12:00:00                                   Sophos Plc   \n",
       "2493  2013-03-02 00:00:00                              SEC Recruitment   \n",
       "88    2013-05-20 15:00:00                          Experis Engineering   \n",
       "1459  2012-10-01 15:00:00                     IT Works Recruitment Ltd   \n",
       "4585  2013-05-23 12:00:00                         Vivid Resourcing Ltd   \n",
       "\n",
       "       ContractType     SourceName  \n",
       "811       full_time  non-specified  \n",
       "4117      full_time  non-specified  \n",
       "2225      full_time  non-specified  \n",
       "2946      full_time  non-specified  \n",
       "1955      full_time  non-specified  \n",
       "4779      full_time  non-specified  \n",
       "2493      full_time  non-specified  \n",
       "88    non-specified    TotallyExec  \n",
       "1459      full_time  non-specified  \n",
       "4585      full_time  non-specified  "
      ]
     },
     "execution_count": 35,
     "metadata": {},
     "output_type": "execute_result"
    }
   ],
   "source": [
    "# concatenate 2 dataframes\n",
    "df = pd.concat([df1,df2])\n",
    "print (df.shape)\n",
    "\n",
    "# print 10 random records\n",
    "df.sample(10)"
   ]
  },
  {
   "cell_type": "markdown",
   "metadata": {},
   "source": [
    "### 4. Resolving data conflicts:"
   ]
  },
  {
   "cell_type": "markdown",
   "metadata": {},
   "source": [
    "Let's first try to check duplicates using all the records we have:"
   ]
  },
  {
   "cell_type": "code",
   "execution_count": 36,
   "metadata": {},
   "outputs": [
    {
     "name": "stdout",
     "output_type": "stream",
     "text": [
      "There are 0 duplicate records found\n"
     ]
    },
    {
     "data": {
      "text/html": [
       "<div>\n",
       "<style scoped>\n",
       "    .dataframe tbody tr th:only-of-type {\n",
       "        vertical-align: middle;\n",
       "    }\n",
       "\n",
       "    .dataframe tbody tr th {\n",
       "        vertical-align: top;\n",
       "    }\n",
       "\n",
       "    .dataframe thead th {\n",
       "        text-align: right;\n",
       "    }\n",
       "</style>\n",
       "<table border=\"1\" class=\"dataframe\">\n",
       "  <thead>\n",
       "    <tr style=\"text-align: right;\">\n",
       "      <th></th>\n",
       "      <th>Id</th>\n",
       "      <th>Location</th>\n",
       "      <th>Title</th>\n",
       "      <th>Salary</th>\n",
       "      <th>CloseDate</th>\n",
       "      <th>Category</th>\n",
       "      <th>ContractTime</th>\n",
       "      <th>OpenDate</th>\n",
       "      <th>Company</th>\n",
       "      <th>ContractType</th>\n",
       "      <th>SourceName</th>\n",
       "    </tr>\n",
       "  </thead>\n",
       "  <tbody>\n",
       "  </tbody>\n",
       "</table>\n",
       "</div>"
      ],
      "text/plain": [
       "Empty DataFrame\n",
       "Columns: [Id, Location, Title, Salary, CloseDate, Category, ContractTime, OpenDate, Company, ContractType, SourceName]\n",
       "Index: []"
      ]
     },
     "execution_count": 36,
     "metadata": {},
     "output_type": "execute_result"
    }
   ],
   "source": [
    "# check duplication\n",
    "duplicates = df[df.duplicated(keep=False)] # showing all duplicated records\n",
    "print (\"There are \"+ str(len(duplicates)) + \" duplicate records found\")\n",
    "duplicates.sort_values(by=duplicates.columns.tolist()).head(10)"
   ]
  },
  {
   "cell_type": "code",
   "execution_count": 37,
   "metadata": {},
   "outputs": [
    {
     "data": {
      "text/plain": [
       "(5134, 11)"
      ]
     },
     "execution_count": 37,
     "metadata": {},
     "output_type": "execute_result"
    }
   ],
   "source": [
    "df.shape"
   ]
  },
  {
   "cell_type": "markdown",
   "metadata": {},
   "source": [
    "Now we have 5134 rows and 11 columns without duplicate records. Is this true? Let's triple check by using global key for df. "
   ]
  },
  {
   "cell_type": "markdown",
   "metadata": {},
   "source": [
    "#### Finding global key for the data\n",
    "In this senario, we can trial choose 'Company','Category','Salary' as the unique identifiers of a job advertisement record. We choose these three attributes because they are highly to be unique to identify a record. Let's check the results if any record possibly duplicated."
   ]
  },
  {
   "cell_type": "code",
   "execution_count": 38,
   "metadata": {},
   "outputs": [
    {
     "name": "stdout",
     "output_type": "stream",
     "text": [
      "There are 528 duplicate records found\n"
     ]
    },
    {
     "data": {
      "text/html": [
       "<div>\n",
       "<style scoped>\n",
       "    .dataframe tbody tr th:only-of-type {\n",
       "        vertical-align: middle;\n",
       "    }\n",
       "\n",
       "    .dataframe tbody tr th {\n",
       "        vertical-align: top;\n",
       "    }\n",
       "\n",
       "    .dataframe thead th {\n",
       "        text-align: right;\n",
       "    }\n",
       "</style>\n",
       "<table border=\"1\" class=\"dataframe\">\n",
       "  <thead>\n",
       "    <tr style=\"text-align: right;\">\n",
       "      <th></th>\n",
       "      <th>Id</th>\n",
       "      <th>Location</th>\n",
       "      <th>Title</th>\n",
       "      <th>Salary</th>\n",
       "      <th>CloseDate</th>\n",
       "      <th>Category</th>\n",
       "      <th>ContractTime</th>\n",
       "      <th>OpenDate</th>\n",
       "      <th>Company</th>\n",
       "      <th>ContractType</th>\n",
       "      <th>SourceName</th>\n",
       "    </tr>\n",
       "  </thead>\n",
       "  <tbody>\n",
       "    <tr>\n",
       "      <th>15</th>\n",
       "      <td>66601642</td>\n",
       "      <td>East Midlands</td>\n",
       "      <td>Community Occupational Therapist  Leicestershire</td>\n",
       "      <td>45120.00</td>\n",
       "      <td>2013-06-09 12:00:00</td>\n",
       "      <td>Healthcare &amp; Nursing Jobs</td>\n",
       "      <td>non-specified</td>\n",
       "      <td>2013-05-26 12:00:00</td>\n",
       "      <td>About Health Professionals</td>\n",
       "      <td>non-specified</td>\n",
       "      <td>MyUkJobs</td>\n",
       "    </tr>\n",
       "    <tr>\n",
       "      <th>51</th>\n",
       "      <td>66601684</td>\n",
       "      <td>South West England</td>\n",
       "      <td>Community Physiotherapist  Bournemouth</td>\n",
       "      <td>45120.00</td>\n",
       "      <td>2012-11-10 12:00:00</td>\n",
       "      <td>Healthcare &amp; Nursing Jobs</td>\n",
       "      <td>non-specified</td>\n",
       "      <td>2012-10-27 12:00:00</td>\n",
       "      <td>About Health Professionals</td>\n",
       "      <td>non-specified</td>\n",
       "      <td>ifaonlinejobs.co.uk</td>\n",
       "    </tr>\n",
       "    <tr>\n",
       "      <th>105</th>\n",
       "      <td>69869466</td>\n",
       "      <td>South East England</td>\n",
       "      <td>Band 6 Acute Occupational Therapist  Oxfordshire</td>\n",
       "      <td>45120.00</td>\n",
       "      <td>2013-05-23 00:00:00</td>\n",
       "      <td>Healthcare &amp; Nursing Jobs</td>\n",
       "      <td>non-specified</td>\n",
       "      <td>2013-04-23 00:00:00</td>\n",
       "      <td>About Health Professionals</td>\n",
       "      <td>non-specified</td>\n",
       "      <td>thegraduate.co.uk</td>\n",
       "    </tr>\n",
       "    <tr>\n",
       "      <th>56</th>\n",
       "      <td>66601688</td>\n",
       "      <td>East Midlands</td>\n",
       "      <td>Acute Physiotherapist  Newark</td>\n",
       "      <td>47040.00</td>\n",
       "      <td>2013-08-18 00:00:00</td>\n",
       "      <td>Healthcare &amp; Nursing Jobs</td>\n",
       "      <td>non-specified</td>\n",
       "      <td>2013-08-04 00:00:00</td>\n",
       "      <td>About Health Professionals</td>\n",
       "      <td>non-specified</td>\n",
       "      <td>cityjobs.com</td>\n",
       "    </tr>\n",
       "    <tr>\n",
       "      <th>65</th>\n",
       "      <td>71467354</td>\n",
       "      <td>North West England</td>\n",
       "      <td>Band 6 Intermediate Care Occupational Therapis...</td>\n",
       "      <td>47040.00</td>\n",
       "      <td>2014-02-22 00:00:00</td>\n",
       "      <td>Healthcare &amp; Nursing Jobs</td>\n",
       "      <td>non-specified</td>\n",
       "      <td>2013-12-24 00:00:00</td>\n",
       "      <td>About Health Professionals</td>\n",
       "      <td>non-specified</td>\n",
       "      <td>michaelpage.co.uk</td>\n",
       "    </tr>\n",
       "    <tr>\n",
       "      <th>124</th>\n",
       "      <td>71467357</td>\n",
       "      <td>South East England</td>\n",
       "      <td>Social Service Physiotherapist  Berkshire</td>\n",
       "      <td>47040.00</td>\n",
       "      <td>2013-09-02 00:00:00</td>\n",
       "      <td>Healthcare &amp; Nursing Jobs</td>\n",
       "      <td>non-specified</td>\n",
       "      <td>2013-08-19 00:00:00</td>\n",
       "      <td>About Health Professionals</td>\n",
       "      <td>non-specified</td>\n",
       "      <td>non-specified</td>\n",
       "    </tr>\n",
       "    <tr>\n",
       "      <th>3631</th>\n",
       "      <td>20898549</td>\n",
       "      <td>South East England</td>\n",
       "      <td>Social Services Occupational Therapist  Oxford...</td>\n",
       "      <td>48960.00</td>\n",
       "      <td>2013-07-08 00:00:00</td>\n",
       "      <td>Healthcare &amp; Nursing Jobs</td>\n",
       "      <td>non-specified</td>\n",
       "      <td>2013-06-08 00:00:00</td>\n",
       "      <td>About Health Professionals</td>\n",
       "      <td>full_time</td>\n",
       "      <td>non-specified</td>\n",
       "    </tr>\n",
       "    <tr>\n",
       "      <th>4757</th>\n",
       "      <td>82818238</td>\n",
       "      <td>Cambridgeshire</td>\n",
       "      <td>Community Occupational Therapist – Cambridgeshire</td>\n",
       "      <td>48960.00</td>\n",
       "      <td>2012-02-07 12:00:00</td>\n",
       "      <td>Healthcare &amp; Nursing Jobs</td>\n",
       "      <td>Contract</td>\n",
       "      <td>2012-01-08 12:00:00</td>\n",
       "      <td>About Health Professionals</td>\n",
       "      <td>full_time</td>\n",
       "      <td>non-specified</td>\n",
       "    </tr>\n",
       "    <tr>\n",
       "      <th>1651</th>\n",
       "      <td>80742389</td>\n",
       "      <td>London</td>\n",
       "      <td>Technology Trading Specialist – UNIX  SQL  Jav...</td>\n",
       "      <td>54999.96</td>\n",
       "      <td>2013-02-02 12:00:00</td>\n",
       "      <td>Accounting &amp; Finance Jobs</td>\n",
       "      <td>Permanent</td>\n",
       "      <td>2012-12-04 12:00:00</td>\n",
       "      <td>Anderson Cole Recruitment Ltd</td>\n",
       "      <td>full_time</td>\n",
       "      <td>non-specified</td>\n",
       "    </tr>\n",
       "    <tr>\n",
       "      <th>2747</th>\n",
       "      <td>16742034</td>\n",
       "      <td>South East London</td>\n",
       "      <td>Application Support Analyst  Global Brokerage ...</td>\n",
       "      <td>54999.96</td>\n",
       "      <td>2012-07-13 12:00:00</td>\n",
       "      <td>Accounting &amp; Finance Jobs</td>\n",
       "      <td>Permanent</td>\n",
       "      <td>2012-04-14 12:00:00</td>\n",
       "      <td>Anderson Cole Recruitment Ltd</td>\n",
       "      <td>full_time</td>\n",
       "      <td>non-specified</td>\n",
       "    </tr>\n",
       "  </tbody>\n",
       "</table>\n",
       "</div>"
      ],
      "text/plain": [
       "            Id            Location  \\\n",
       "15    66601642       East Midlands   \n",
       "51    66601684  South West England   \n",
       "105   69869466  South East England   \n",
       "56    66601688       East Midlands   \n",
       "65    71467354  North West England   \n",
       "124   71467357  South East England   \n",
       "3631  20898549  South East England   \n",
       "4757  82818238      Cambridgeshire   \n",
       "1651  80742389              London   \n",
       "2747  16742034   South East London   \n",
       "\n",
       "                                                  Title    Salary  \\\n",
       "15     Community Occupational Therapist  Leicestershire  45120.00   \n",
       "51               Community Physiotherapist  Bournemouth  45120.00   \n",
       "105    Band 6 Acute Occupational Therapist  Oxfordshire  45120.00   \n",
       "56                        Acute Physiotherapist  Newark  47040.00   \n",
       "65    Band 6 Intermediate Care Occupational Therapis...  47040.00   \n",
       "124           Social Service Physiotherapist  Berkshire  47040.00   \n",
       "3631  Social Services Occupational Therapist  Oxford...  48960.00   \n",
       "4757  Community Occupational Therapist – Cambridgeshire  48960.00   \n",
       "1651  Technology Trading Specialist – UNIX  SQL  Jav...  54999.96   \n",
       "2747  Application Support Analyst  Global Brokerage ...  54999.96   \n",
       "\n",
       "                CloseDate                   Category   ContractTime  \\\n",
       "15    2013-06-09 12:00:00  Healthcare & Nursing Jobs  non-specified   \n",
       "51    2012-11-10 12:00:00  Healthcare & Nursing Jobs  non-specified   \n",
       "105   2013-05-23 00:00:00  Healthcare & Nursing Jobs  non-specified   \n",
       "56    2013-08-18 00:00:00  Healthcare & Nursing Jobs  non-specified   \n",
       "65    2014-02-22 00:00:00  Healthcare & Nursing Jobs  non-specified   \n",
       "124   2013-09-02 00:00:00  Healthcare & Nursing Jobs  non-specified   \n",
       "3631  2013-07-08 00:00:00  Healthcare & Nursing Jobs  non-specified   \n",
       "4757  2012-02-07 12:00:00  Healthcare & Nursing Jobs       Contract   \n",
       "1651  2013-02-02 12:00:00  Accounting & Finance Jobs      Permanent   \n",
       "2747  2012-07-13 12:00:00  Accounting & Finance Jobs      Permanent   \n",
       "\n",
       "                 OpenDate                        Company   ContractType  \\\n",
       "15    2013-05-26 12:00:00     About Health Professionals  non-specified   \n",
       "51    2012-10-27 12:00:00     About Health Professionals  non-specified   \n",
       "105   2013-04-23 00:00:00     About Health Professionals  non-specified   \n",
       "56    2013-08-04 00:00:00     About Health Professionals  non-specified   \n",
       "65    2013-12-24 00:00:00     About Health Professionals  non-specified   \n",
       "124   2013-08-19 00:00:00     About Health Professionals  non-specified   \n",
       "3631  2013-06-08 00:00:00     About Health Professionals      full_time   \n",
       "4757  2012-01-08 12:00:00     About Health Professionals      full_time   \n",
       "1651  2012-12-04 12:00:00  Anderson Cole Recruitment Ltd      full_time   \n",
       "2747  2012-04-14 12:00:00  Anderson Cole Recruitment Ltd      full_time   \n",
       "\n",
       "               SourceName  \n",
       "15               MyUkJobs  \n",
       "51    ifaonlinejobs.co.uk  \n",
       "105     thegraduate.co.uk  \n",
       "56           cityjobs.com  \n",
       "65      michaelpage.co.uk  \n",
       "124         non-specified  \n",
       "3631        non-specified  \n",
       "4757        non-specified  \n",
       "1651        non-specified  \n",
       "2747        non-specified  "
      ]
     },
     "execution_count": 38,
     "metadata": {},
     "output_type": "execute_result"
    }
   ],
   "source": [
    "# check duplication\n",
    "cols = ['Company','Category','Salary'] # this should uniquely identified a record\n",
    "duplicates = df[df.duplicated(cols,keep=False)]\n",
    "print (\"There are \"+ str(len(duplicates)) + \" duplicate records found\")\n",
    "duplicates.sort_values(by=cols).head(10)"
   ]
  },
  {
   "cell_type": "markdown",
   "metadata": {},
   "source": [
    "We can see that, there are 528 duplicate records here. Let's drop them. "
   ]
  },
  {
   "cell_type": "code",
   "execution_count": 39,
   "metadata": {},
   "outputs": [
    {
     "data": {
      "text/plain": [
       "(4811, 11)"
      ]
     },
     "execution_count": 39,
     "metadata": {},
     "output_type": "execute_result"
    }
   ],
   "source": [
    "# drop duplicate\n",
    "df = df.drop_duplicates(cols, keep='last')\n",
    "df.shape"
   ]
  },
  {
   "cell_type": "markdown",
   "metadata": {},
   "source": [
    "### 5. Saving the integrated and reshaped data\n",
    "This last part of the integration process is to export our output data to csv format, named as:\n",
    "- 's3651761_dataset_integrated.csv'"
   ]
  },
  {
   "cell_type": "code",
   "execution_count": 40,
   "metadata": {},
   "outputs": [],
   "source": [
    "df.to_csv(\"s3651761_dataset_integrated.csv\",index = False, float_format='%.2f')"
   ]
  },
  {
   "cell_type": "markdown",
   "metadata": {},
   "source": [
    "## Summary of project\n",
    "In project, we have demonstrated process of data integration.\n",
    "- All schema conflicts are identified, explained and resolved, we then simply identify duplicate using the complete records. \n",
    "- Carefully, we examine and identify global key for identifying data conflicts in integration."
   ]
  },
  {
   "cell_type": "code",
   "execution_count": null,
   "metadata": {},
   "outputs": [],
   "source": []
  }
 ],
 "metadata": {
  "kernelspec": {
   "display_name": "Python 3 (ipykernel)",
   "language": "python",
   "name": "python3"
  },
  "language_info": {
   "codemirror_mode": {
    "name": "ipython",
    "version": 3
   },
   "file_extension": ".py",
   "mimetype": "text/x-python",
   "name": "python",
   "nbconvert_exporter": "python",
   "pygments_lexer": "ipython3",
   "version": "3.9.12"
  }
 },
 "nbformat": 4,
 "nbformat_minor": 1
}
